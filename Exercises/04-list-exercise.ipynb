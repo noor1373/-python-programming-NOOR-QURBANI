{
 "cells": [
  {
   "cell_type": "code",
   "execution_count": 16,
   "id": "4f0754b7",
   "metadata": {},
   "outputs": [
    {
     "name": "stdout",
     "output_type": "stream",
     "text": [
      "Dice rolls: [6, 2, 1, 3, 5, 5, 4, 6, 2, 3]\n",
      "Sorted ascending: [1, 2, 2, 3, 3, 4, 5, 5, 6, 6]\n",
      "Sorted descending: [6, 6, 5, 5, 4, 3, 3, 2, 2, 1]\n",
      "Maximum value: 6\n",
      "Minimum value: 1\n"
     ]
    }
   ],
   "source": [
    "# Dice rolls\n",
    "import random\n",
    "\n",
    "dice_rolls = []\n",
    "\n",
    "for i in range(10):\n",
    "    roll = random.randint(1, 6)\n",
    "    dice_rolls.append(roll)\n",
    "\n",
    "print(\"Dice rolls:\", dice_rolls)\n",
    "\n",
    "dice_rolls.sort()\n",
    "print(\"Sorted ascending:\", dice_rolls)\n",
    "\n",
    "dice_rolls.sort(reverse=True)\n",
    "print(\"Sorted descending:\", dice_rolls)\n",
    "print(\"Maximum value:\", max(dice_rolls))\n",
    "print(\"Minimum value:\", min(dice_rolls))\n"
   ]
  },
  {
   "cell_type": "code",
   "execution_count": 30,
   "id": "d729b8b5",
   "metadata": {},
   "outputs": [
    {
     "name": "stdout",
     "output_type": "stream",
     "text": [
      "*** Bambameny ***\n",
      "Mån: vegetarisk lasagne\n",
      "Tis: Spaghetti\n",
      "Ons: fisk\n",
      "Tor: grönsakssoppa\n",
      "Fre: pannkakor\n"
     ]
    }
   ],
   "source": [
    "# Food menu\n",
    "\n",
    "foods = [\"vegetarisk lasagne\", \"Spaghetti\", \"fisk\", \"grönsakssoppa\", \"pannkakor\"]\n",
    "weekdays = [\"Mån\", \"Tis\", \"Ons\", \"Tor\", \"Fre\"]\n",
    "\n",
    "print(\"*** Bambameny ***\")\n",
    "for day, food in zip(weekdays, foods):\n",
    "    print(day + \": \" + food)"
   ]
  },
  {
   "cell_type": "code",
   "execution_count": null,
   "id": "a78c3c4f",
   "metadata": {},
   "outputs": [],
   "source": [
    "# Squares\n",
    "import matplotlib.pyplot as plt\n",
    "\n",
    "square = [x * x for x in range(-10, 11) ]\n",
    "print(square)\n",
    "\n",
    "numbers = list(range(-10, 11))\n",
    "\n",
    "plt.plot(numbers, square)\n",
    "plt.title(\"The function x^2\")\n",
    "plt.xlabel(\"x\")\n",
    "plt.ylabel(\"y\")\n"
   ]
  },
  {
   "cell_type": "code",
   "execution_count": null,
   "id": "336886b0",
   "metadata": {},
   "outputs": [],
   "source": [
    "# Chessboard\n",
    "\n",
    "columns = list(\"ABCDEFGH\")\n",
    "chessboard = []\n",
    "\n",
    "for row in range(1, 9):\n",
    "    row_list = []\n",
    "    for col in columns:\n",
    "        row_list.append(f\"{col}{row}\")\n",
    "    chessboard.append(row_list)\n",
    "for row in chessboard:\n",
    "    print(row)"
   ]
  }
 ],
 "metadata": {
  "kernelspec": {
   "display_name": ".venv (3.13.7)",
   "language": "python",
   "name": "python3"
  },
  "language_info": {
   "codemirror_mode": {
    "name": "ipython",
    "version": 3
   },
   "file_extension": ".py",
   "mimetype": "text/x-python",
   "name": "python",
   "nbconvert_exporter": "python",
   "pygments_lexer": "ipython3",
   "version": "3.13.7"
  }
 },
 "nbformat": 4,
 "nbformat_minor": 5
}
