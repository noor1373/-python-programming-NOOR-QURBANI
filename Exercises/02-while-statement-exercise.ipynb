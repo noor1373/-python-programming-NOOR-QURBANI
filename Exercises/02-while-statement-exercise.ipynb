{
 "cells": [
  {
   "cell_type": "code",
   "execution_count": 1,
   "id": "328be80c",
   "metadata": {},
   "outputs": [
    {
     "name": "stdout",
     "output_type": "stream",
     "text": [
      "-10 -9 -8 -7 -6 -5 -4 -3 -2 -1 0 1 2 3 4 5 6 7 8 9 10 "
     ]
    }
   ],
   "source": [
    "n = -10\n",
    "while n <= 10:\n",
    "    print(n, end= \" \")\n",
    "    n += 1"
   ]
  },
  {
   "cell_type": "code",
   "execution_count": 2,
   "id": "a4627f60",
   "metadata": {},
   "outputs": [
    {
     "name": "stdout",
     "output_type": "stream",
     "text": [
      "5050\n"
     ]
    }
   ],
   "source": [
    "i = 1\n",
    "n = 1\n",
    "while i < 100:\n",
    "    n += i + 1\n",
    "    i += 1\n",
    "print(n)"
   ]
  },
  {
   "cell_type": "code",
   "execution_count": 7,
   "id": "53d717e8",
   "metadata": {},
   "outputs": [
    {
     "name": "stdout",
     "output_type": "stream",
     "text": [
      "2500\n"
     ]
    }
   ],
   "source": [
    "i = 1\n",
    "n = 1\n",
    "while i < 99:\n",
    "    n += i + 2\n",
    "    i += 2\n",
    "print(n)"
   ]
  },
  {
   "cell_type": "code",
   "execution_count": null,
   "id": "2ea213c5",
   "metadata": {},
   "outputs": [],
   "source": [
    "import random\n",
    "\n",
    "def guess_number_game():\n",
    "    number = random.randint(1,100)\n",
    "    guesses = 0\n",
    "\n",
    "    while True:\n",
    "        guess = int(input(\"Guess a number between 1 and 100: \"))\n",
    "        guesses += 1\n",
    "\n",
    "        if guess == number:\n",
    "            print(f\"Correct! You guessed it in {guesses} tries. \")\n",
    "            break\n",
    "        elif guess < number:\n",
    "            print(\"Too low! Try again. \")\n",
    "        else:\n",
    "            print(\"Too high! Try agin. \") \n",
    "\n",
    "guess_number_game()"
   ]
  },
  {
   "cell_type": "code",
   "execution_count": null,
   "id": "2ff8f2e2",
   "metadata": {},
   "outputs": [],
   "source": [
    "import random\n",
    "\n",
    "score = 0\n",
    "playing = True\n",
    "\n",
    "while playing:\n",
    "    x = random.randint(1, 10)\n",
    "    y = random.randint(1, 10)\n",
    "    answer = x * y\n",
    "\n",
    "    user_answer = int(input(f\"What is {x} * {y}? \"))\n",
    "\n",
    "    if user_answer == answer:\n",
    "        print(\"Good work!\")\n",
    "        score += 1\n",
    "    else:\n",
    "        print(f\"Wrong. The correct answer is {answer}. \")\n",
    "        \n",
    "    play_again = input(\"Do you want to play again? (y/n): \").lower()\n",
    "    if play_again != \"y\":\n",
    "        playing = False\n",
    "\n",
    "print(f\"Thanks for playing! Your final score is {score}. \")\n",
    "\n"
   ]
  },
  {
   "cell_type": "code",
   "execution_count": 8,
   "id": "1fbf77a0",
   "metadata": {},
   "outputs": [
    {
     "name": "stdout",
     "output_type": "stream",
     "text": [
      "Choose difficulty level:\n",
      "1. Easy (1-10)\n",
      "2. Medium (1-20)\n",
      "3. Hard (1-30)\n",
      "Good work!\n",
      "Good work!\n",
      "Thanks for playing! Your final score is 2. \n"
     ]
    }
   ],
   "source": [
    "\n",
    "print (\"Choose difficulty level:\")\n",
    "print(\"1. Easy (1-10)\")\n",
    "print(\"2. Medium (1-20)\")\n",
    "print(\"3. Hard (1-30)\")\n",
    "\n",
    "choice = input(\"Enter 1, 2 or 3: \")\n",
    "if choice == \"1\":\n",
    "    max_num = 10\n",
    "elif choice == \"2\":\n",
    "    max_num = 20\n",
    "elif choice == \"3\":\n",
    "    max_num = 30\n",
    "else:\n",
    "    print(\"Invalid choice, defaulting to Medium. \")\n",
    "    max_num = 20\n",
    "\n",
    "\n",
    "score = 0\n",
    "playing = True\n",
    "\n",
    "while playing:\n",
    "    x = random.randint(1, max_num)\n",
    "    y = random.randint(1, max_num)\n",
    "    answer = x * y\n",
    "\n",
    "    user_answer = int(input(f\"What is {x} * {y}? \"))\n",
    "\n",
    "    if user_answer == answer:\n",
    "        print(\"Good work!\")\n",
    "        score += 1\n",
    "    else:\n",
    "        print(f\"Wrong. The correct answer is {answer}. \")\n",
    "        \n",
    "    play_again = input(\"Do you want to play again? (y/n): \").lower()\n",
    "    if play_again != \"y\":\n",
    "        playing = False\n",
    "\n",
    "print(f\"Thanks for playing! Your final score is {score}. \")"
   ]
  }
 ],
 "metadata": {
  "kernelspec": {
   "display_name": ".venv (3.13.7)",
   "language": "python",
   "name": "python3"
  },
  "language_info": {
   "codemirror_mode": {
    "name": "ipython",
    "version": 3
   },
   "file_extension": ".py",
   "mimetype": "text/x-python",
   "name": "python",
   "nbconvert_exporter": "python",
   "pygments_lexer": "ipython3",
   "version": "3.13.7"
  }
 },
 "nbformat": 4,
 "nbformat_minor": 5
}
